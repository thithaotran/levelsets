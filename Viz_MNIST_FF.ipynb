{
 "cells": [
  {
   "cell_type": "code",
   "execution_count": null,
   "metadata": {},
   "outputs": [],
   "source": [
    "import os\n",
    "import numpy as np\n",
    "import scipy as sp\n",
    "import Configs\n",
    "\n",
    "# plotting lib(s) and updated default plot settings\n",
    "import matplotlib.pyplot as plt\n",
    "plt.style.use('default')\n",
    "plt.rcParams['figure.dpi'] = 100\n",
    "plt.rcParams['savefig.dpi'] = 300\n",
    "\n",
    "%matplotlib widget"
   ]
  },
  {
   "cell_type": "code",
   "execution_count": null,
   "metadata": {},
   "outputs": [],
   "source": [
    "EXPERIMENT = 'MNIST_FF'\n",
    "EXP_CONFIG = getattr(Configs, \"Config_{}\".format(EXPERIMENT))()\n",
    "NUM_STEPS_PRED = EXP_CONFIG.NUM_EPOCHS_PHASE2\n",
    "NUM_EXP_TO_AGG = len([f for f in os.listdir(EXPERIMENT) if 'npz' in f])\n",
    "WEIGHT_POINTS = (NUM_STEPS_PRED//50) # weights from every 50th step are saved"
   ]
  },
  {
   "cell_type": "markdown",
   "metadata": {},
   "source": [
    "### Identify Logged Metrics"
   ]
  },
  {
   "cell_type": "code",
   "execution_count": null,
   "metadata": {},
   "outputs": [],
   "source": [
    "\n",
    "experiment_idx = 0\n",
    "fpath = os.path.join(EXPERIMENT, 'logs_{}_exp_{}.npz'.format(EXPERIMENT, experiment_idx))\n",
    "lg = np.load(fpath)\n",
    "\n"
   ]
  },
  {
   "cell_type": "code",
   "execution_count": null,
   "metadata": {},
   "outputs": [],
   "source": [
    "sorted(list(lg.keys()))"
   ]
  },
  {
   "cell_type": "code",
   "execution_count": null,
   "metadata": {},
   "outputs": [],
   "source": [
    "keys_to_plot = ['angle_bw_gradients', 'param_norms', 'train_loss', 'train_accuracy', 'test_loss', 'test_accuracy']\n",
    "key_labels = ['Angle b/w Grdients', 'Parameter Norms', 'Train Loss', 'Train Accuracy', 'Test Loss', 'Test Accuracy']\n",
    "key_ylabels = ['Degrees', 'Squared Norm Units', 'Loss', 'Accuracy(%)', 'Test Loss', 'Test Accuracy(%)']"
   ]
  },
  {
   "cell_type": "markdown",
   "metadata": {},
   "source": [
    "### Generate Combo Plots"
   ]
  },
  {
   "cell_type": "code",
   "execution_count": null,
   "metadata": {},
   "outputs": [],
   "source": [
    "def generate_combo_plot(metrics, transformation = None, start_exp_id = 0, num_exp_to_agg = NUM_EXP_TO_AGG, step_range=range(NUM_STEPS_PRED)):\n",
    "    fig, axs = plt.subplots(len(metrics), 1, figsize=(4, 4.5), sharex=True)\n",
    "    \n",
    "    combo_plot_data = []\n",
    "    for metric_index, metric in enumerate(metrics, start=0):\n",
    "        temp = []\n",
    "\n",
    "        for experiment_id in range(start_exp_id, start_exp_id+num_exp_to_agg):\n",
    "            fpath = os.path.join(EXPERIMENT, 'logs_{}_exp_{}.npz'.format(EXPERIMENT, experiment_id))\n",
    "            lg = np.load(fpath)\n",
    "            #print(list(lg.keys()))\n",
    "            #print(metrics[metric_index], len(lg.get(metrics[metric_index])))\n",
    "            #print(lg.get(metric)[step_range])\n",
    "            temp.append(lg.get(metric)[-NUM_STEPS_PRED:])\n",
    "\n",
    "\n",
    "        if transformation is not None:\n",
    "            temp = [transformation(i) for i in temp]\n",
    "\n",
    "\n",
    "        mean = np.mean(temp, axis=0)\n",
    "        std = np.std(temp, axis=0)\n",
    "        combo_plot_data.append([mean, std])\n",
    "\n",
    "        axs[metric_index].plot(step_range, mean, label = key_labels[keys_to_plot.index(metric)])\n",
    "        axs[metric_index].fill_between(step_range, mean+std, mean-std, alpha=0.2)\n",
    "        axs[metric_index].legend(loc='best')\n",
    "        #axs[metric_index].set_ylabel(key_ylabels[keys_to_plot.index(metric)], fontsize=9)\n",
    "        axs[metric_index].set_ylabel(\"\\n\".join((key_ylabels[keys_to_plot.index(metric)]).split(\" \")), fontsize=9)\n",
    "        axs[metric_index].legend(loc='best', prop=dict(size=9))\n",
    "    fig.gca().set_xlabel('Index - Predictor Step')\n",
    "    plt.tight_layout(h_pad=0.1)\n",
    "    return fig, combo_plot_data"
   ]
  },
  {
   "cell_type": "code",
   "execution_count": null,
   "metadata": {},
   "outputs": [],
   "source": [
    "fig, data = generate_combo_plot(np.array(keys_to_plot)[[0, 1, -2, -1]])\n"
   ]
  },
  {
   "cell_type": "code",
   "execution_count": null,
   "metadata": {},
   "outputs": [],
   "source": [
    "fig.savefig('fig_{}.pdf'.format(EXPERIMENT), bbox_inches='tight', dpi=300)"
   ]
  },
  {
   "cell_type": "code",
   "execution_count": null,
   "metadata": {},
   "outputs": [],
   "source": [
    "np.save('{}_combo_plots_data'.format(EXPERIMENT), np.array(data))"
   ]
  },
  {
   "cell_type": "markdown",
   "metadata": {},
   "source": [
    "### Generate Metris Stats"
   ]
  },
  {
   "cell_type": "code",
   "execution_count": null,
   "metadata": {},
   "outputs": [],
   "source": [
    "def compute_metric(metric, trans = [np.mean, np.std], start_exp_id = 0, num_exp_to_agg = NUM_EXP_TO_AGG, step_range=range(0, NUM_STEPS_PRED)):\n",
    "    \n",
    "    \n",
    "    temp = []\n",
    "\n",
    "    for exp_index in range(start_exp_id, start_exp_id+num_exp_to_agg):\n",
    "        fpath = os.path.join(EXPERIMENT, 'logs_{}_exp_{}.npz'.format(EXPERIMENT, exp_index))\n",
    "        lg = np.load(fpath)\n",
    "        temp.append(lg.get(metric)[-1])\n",
    "\n",
    "    return [fn(temp, axis=0) for fn in trans]             \n"
   ]
  },
  {
   "cell_type": "code",
   "execution_count": null,
   "metadata": {},
   "outputs": [],
   "source": [
    "compute_metric('test_loss'), compute_metric('test_accuracy')"
   ]
  },
  {
   "cell_type": "markdown",
   "metadata": {},
   "source": [
    "### Extract Traversal Points"
   ]
  },
  {
   "cell_type": "code",
   "execution_count": null,
   "metadata": {},
   "outputs": [],
   "source": [
    "\n",
    "def get_points_traversal(num_trvrsls=None):\n",
    "    npdumps = sorted([f for f in os.listdir(EXPERIMENT) if 'npz' in f], key=lambda x:int(x.split('_')[-1].split('.')[-2]))\n",
    "    if num_trvrsls is not None:\n",
    "        npdumps = npdumps[:num_trvrsls]\n",
    "\n",
    "    points = []\n",
    "    for dump in npdumps:\n",
    "        fpath = os.path.join(EXPERIMENT, dump)\n",
    "        lg = np.load(fpath)\n",
    "        for pt in lg.get('weights_phase2')[-WEIGHT_POINTS:]:\n",
    "            points.append(pt)\n",
    "            \n",
    "    points = np.vstack(points)\n",
    "    \n",
    "    return points\n"
   ]
  },
  {
   "cell_type": "code",
   "execution_count": null,
   "metadata": {},
   "outputs": [],
   "source": [
    "pts = get_points_traversal()"
   ]
  },
  {
   "cell_type": "code",
   "execution_count": null,
   "metadata": {},
   "outputs": [],
   "source": [
    "np.save('{}_all_traversal_points'.format(EXPERIMENT), pts)"
   ]
  },
  {
   "cell_type": "code",
   "execution_count": null,
   "metadata": {},
   "outputs": [],
   "source": [
    "\n",
    "def get_avg_endpoint_traversal(num_trvrsls=None):\n",
    "    npdumps = sorted([f for f in os.listdir(EXPERIMENT) if 'npz' in f], key=lambda x:int(x.split('_')[-1].split('.')[-2]))\n",
    "    if num_trvrsls is not None:\n",
    "        npdumps = npdumps[:num_trvrsls]\n",
    "\n",
    "    points = []\n",
    "    for dump in npdumps:\n",
    "        fpath = os.path.join(EXPERIMENT, dump)\n",
    "        lg = np.load(fpath)\n",
    "        points.append(lg.get('weights_phase2')[-1])\n",
    "            \n",
    "            \n",
    "    points = np.vstack(points)\n",
    "    \n",
    "    return np.mean(points, axis=0)\n"
   ]
  },
  {
   "cell_type": "code",
   "execution_count": null,
   "metadata": {},
   "outputs": [],
   "source": [
    "avg_endpoint = get_avg_endpoint_traversal()"
   ]
  },
  {
   "cell_type": "code",
   "execution_count": null,
   "metadata": {},
   "outputs": [],
   "source": [
    "np.save('{}_avg_endpoint_traversal'.format(EXPERIMENT), avg_endpoint)"
   ]
  },
  {
   "cell_type": "markdown",
   "metadata": {},
   "source": [
    "### Inspect Metrics over an Interval"
   ]
  },
  {
   "cell_type": "code",
   "execution_count": null,
   "metadata": {},
   "outputs": [],
   "source": [
    "def generate_focused_plot(metric, transformation = None, start_exp_id = 0, num_exp_to_agg = NUM_EXP_TO_AGG, step_range=range(NUM_STEPS_PRED)):\n",
    "    plt.figure()\n",
    "    temp = []\n",
    "\n",
    "\n",
    "    for experiment_id in range(start_exp_id, start_exp_id+num_exp_to_agg):\n",
    "        fpath = os.path.join(EXPERIMENT, 'logs_{}_exp_{}.npz'.format(EXPERIMENT, experiment_id))\n",
    "        lg = np.load(fpath)\n",
    "        temp.append(lg.get(metric)[step_range])\n",
    "        \n",
    "    \n",
    "    if transformation is not None:\n",
    "        temp = [transformation(i) for i in temp]\n",
    "    \n",
    "    \n",
    "    mean = np.mean(temp, axis=0)\n",
    "    std = np.std(temp, axis=0)\n",
    "\n",
    "    plt.plot(step_range, mean)\n",
    "    plt.fill_between(step_range, mean+std, mean-std, alpha=0.2)\n",
    "    \n",
    "    return plt"
   ]
  },
  {
   "cell_type": "code",
   "execution_count": null,
   "metadata": {},
   "outputs": [],
   "source": [
    "\n",
    "metric = 'angle_bw_gradients'\n",
    "\n",
    "generate_focused_plot(metric, step_range=range(0, 50))\n",
    "plt.xlabel('Index - Predictor Step')\n",
    "plt.ylabel('Degrees')\n",
    "plt.show()\n"
   ]
  }
 ],
 "metadata": {
  "kernelspec": {
   "display_name": "Python 3",
   "language": "python",
   "name": "python3"
  },
  "language_info": {
   "codemirror_mode": {
    "name": "ipython",
    "version": 3
   },
   "file_extension": ".py",
   "mimetype": "text/x-python",
   "name": "python",
   "nbconvert_exporter": "python",
   "pygments_lexer": "ipython3",
   "version": "3.7.5"
  }
 },
 "nbformat": 4,
 "nbformat_minor": 4
}
