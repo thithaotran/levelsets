{
 "cells": [
  {
   "cell_type": "code",
   "execution_count": null,
   "metadata": {},
   "outputs": [],
   "source": [
    "import os\n",
    "import numpy as np\n",
    "import scipy as sp\n",
    "\n",
    "# plotting lib(s) and updated default plot settings\n",
    "import matplotlib.pyplot as plt\n",
    "plt.style.use('default')\n",
    "plt.rcParams['figure.dpi'] = 100\n",
    "plt.rcParams['savefig.dpi'] = 200\n",
    "\n",
    "from mpl_toolkits.mplot3d import Axes3D\n",
    "%matplotlib widget"
   ]
  },
  {
   "cell_type": "code",
   "execution_count": null,
   "metadata": {},
   "outputs": [],
   "source": [
    "EXPERIMENT = 'MNIST_FF'"
   ]
  },
  {
   "cell_type": "markdown",
   "metadata": {},
   "source": [
    "### Get Level-set Traversal Points"
   ]
  },
  {
   "cell_type": "code",
   "execution_count": null,
   "metadata": {},
   "outputs": [],
   "source": [
    "points = np.load('{}_all_traversal_points.npy'.format(EXPERIMENT))"
   ]
  },
  {
   "cell_type": "code",
   "execution_count": null,
   "metadata": {},
   "outputs": [],
   "source": [
    "points_mean, points_std = np.mean(points, axis=0), np.std(points, axis=0)"
   ]
  },
  {
   "cell_type": "code",
   "execution_count": null,
   "metadata": {},
   "outputs": [],
   "source": [
    "points_normalized = (points - points_mean)/points_std"
   ]
  },
  {
   "cell_type": "markdown",
   "metadata": {},
   "source": [
    "### Principal Component Analysis"
   ]
  },
  {
   "cell_type": "code",
   "execution_count": null,
   "metadata": {},
   "outputs": [],
   "source": [
    "from sklearn import decomposition\n",
    "NUM_PC = 6\n",
    "pca = decomposition.PCA(n_components=NUM_PC, random_state=0)"
   ]
  },
  {
   "cell_type": "code",
   "execution_count": null,
   "metadata": {},
   "outputs": [],
   "source": [
    "pca.fit(points_normalized)"
   ]
  },
  {
   "cell_type": "code",
   "execution_count": null,
   "metadata": {},
   "outputs": [],
   "source": [
    "fig = plt.figure()\n",
    "plt.clf()\n",
    "plt.barh(range(1,NUM_PC+2), pca.explained_variance_ratio_.tolist()+[pca.explained_variance_ratio_.sum()], color = ['b']*NUM_PC+['r'])\n",
    "\n",
    "plt.xlabel('Explained Variance Ratio')\n",
    "plt.ylabel('Principal Components')\n",
    "plt.yticks(range(1, NUM_PC+2), list(range(1, NUM_PC+1))+['Cumulative'])\n",
    "plt.xticks(np.arange(0, 1.1, 0.1).astype('float16'), np.arange(0, 1.1, 0.1).astype('float16'))\n",
    "plt.gca().invert_yaxis()\n",
    "plt.show()\n"
   ]
  },
  {
   "cell_type": "markdown",
   "metadata": {},
   "source": [
    "### Visualize Level-set Traversal "
   ]
  },
  {
   "cell_type": "code",
   "execution_count": null,
   "metadata": {},
   "outputs": [],
   "source": [
    "avg_endpoint = np.load('{}_avg_endpoint_traversal.npy'.format(EXPERIMENT))"
   ]
  },
  {
   "cell_type": "code",
   "execution_count": null,
   "metadata": {},
   "outputs": [],
   "source": [
    "fig = plt.figure(figsize=(12, 6))\n",
    "\n",
    "ax = fig.add_subplot(1, 2, 1, projection='3d')\n",
    "\n",
    "for starting_index in range(0,len(points), len(points)//5):\n",
    "    points_reduced_dim = pca.transform((points[starting_index:starting_index+len(points)//5] - points_mean)/points_std)\n",
    "\n",
    "    #standardize(_arr, _arr.mean(), _arr.std())\n",
    "    #*standardize(points_reduced_dim.mean(axis=0), points_reduced_dim.mean(axis=0)\n",
    "    sctr = ax.scatter(points_reduced_dim[:, 0], points_reduced_dim[:, 1], points_reduced_dim[:, 2], c = range(points_reduced_dim.shape[0]))\n",
    "    ax.scatter(*points_reduced_dim.mean(axis=0)[:3], color='r', marker='*', s = 100)\n",
    "    avg = pca.transform([(avg_endpoint - points_mean)/points_std])\n",
    "    ax.scatter(*avg.ravel()[:3], color='b', marker='P', s = 200, alpha=0.1)\n",
    "\n",
    "\n",
    "\n",
    "ax.set_xlabel('PC1')\n",
    "ax.set_ylabel('PC2')\n",
    "ax.set_zlabel('PC3')\n",
    "ax.view_init(elev=30, azim=45)\n",
    "\n",
    "ax = fig.add_subplot(1, 2, 2, projection='3d')\n",
    "for starting_index in range(0,len(points), len(points)//5):\n",
    "    points_reduced_dim = pca.transform((points[starting_index:starting_index+len(points)//5] - points_mean)/points_std)\n",
    "\n",
    "    #standardize(_arr, _arr.mean(), _arr.std())\n",
    "    #*standardize(points_reduced_dim.mean(axis=0), points_reduced_dim.mean(axis=0)\n",
    "    sctr = ax.scatter(points_reduced_dim[:, 0+3], points_reduced_dim[:, 1+3], points_reduced_dim[:, 2+3], c = range(points_reduced_dim.shape[0]))\n",
    "    ax.scatter(*points_reduced_dim.mean(axis=0)[3:], color='r', marker='*', s = 100)\n",
    "    avg = pca.transform([(avg_endpoint - points_mean)/points_std])\n",
    "    ax.scatter(*avg.ravel()[3:], color='b', marker='P', s = 200, alpha=0.1)\n",
    "\n",
    "ax.set_xlabel('PC4')\n",
    "ax.set_ylabel('PC5')\n",
    "ax.set_zlabel('PC6')\n",
    "ax.view_init(elev=30, azim=45)\n",
    "\n",
    "\n",
    "\n",
    "\n",
    "\n",
    "fig.colorbar(sctr, ax=fig.get_axes(), shrink=0.6, pad = 0.15, ticks=np.arange(0, points_reduced_dim.shape[0]+1, (points_reduced_dim.shape[0] - points_reduced_dim.shape[0]%10)/10))"
   ]
  },
  {
   "cell_type": "markdown",
   "metadata": {},
   "source": [
    "### Visualizing Level-set Travsersal and Average Weight Decay-Endpoint"
   ]
  },
  {
   "cell_type": "code",
   "execution_count": null,
   "metadata": {},
   "outputs": [],
   "source": [
    "avg_endpoint_l2 = np.load('L2_{}_avg_endpoint_l2.npy'.format(EXPERIMENT))"
   ]
  },
  {
   "cell_type": "code",
   "execution_count": null,
   "metadata": {},
   "outputs": [],
   "source": [
    "fig = plt.figure(figsize=(12, 6))\n",
    "\n",
    "ax = fig.add_subplot(1, 2, 1, projection='3d')\n",
    "\n",
    "for starting_index in range(0,len(points), len(points)//5):\n",
    "    points_reduced_dim = pca.transform((points[starting_index:starting_index+len(points)//5] - points_mean)/points_std)\n",
    "\n",
    "    #standardize(_arr, _arr.mean(), _arr.std())\n",
    "    #*standardize(points_reduced_dim.mean(axis=0), points_reduced_dim.mean(axis=0)\n",
    "    sctr = ax.scatter(points_reduced_dim[:, 0], points_reduced_dim[:, 1], points_reduced_dim[:, 2], c = range(points_reduced_dim.shape[0]))\n",
    "    ax.scatter(*points_reduced_dim.mean(axis=0)[:3], color='r', marker='*', s = 100)\n",
    "    avg = pca.transform([(avg_endpoint - points_mean)/points_std])\n",
    "    ax.scatter(*avg.ravel()[:3], color='b', marker='P', s = 200, alpha=0.1)\n",
    "    avgl2 = pca.transform([(avg_endpoint_l2 - points_mean)/points_std])\n",
    "    ax.scatter(*avgl2.ravel()[:3], color='k', marker='p', s = 200, alpha=0.1)\n",
    "\n",
    "\n",
    "\n",
    "ax.set_xlabel('PC1')\n",
    "ax.set_ylabel('PC2')\n",
    "ax.set_zlabel('PC3')\n",
    "ax.view_init(elev=30, azim=45)\n",
    "\n",
    "ax = fig.add_subplot(1, 2, 2, projection='3d')\n",
    "for starting_index in range(0,len(points), len(points)//5):\n",
    "    points_reduced_dim = pca.transform((points[starting_index:starting_index+len(points)//5] - points_mean)/points_std)\n",
    "\n",
    "    #standardize(_arr, _arr.mean(), _arr.std())\n",
    "    #*standardize(points_reduced_dim.mean(axis=0), points_reduced_dim.mean(axis=0)\n",
    "    sctr = ax.scatter(points_reduced_dim[:, 0+3], points_reduced_dim[:, 1+3], points_reduced_dim[:, 2+3], c = range(points_reduced_dim.shape[0]))\n",
    "    ax.scatter(*points_reduced_dim.mean(axis=0)[3:], color='r', marker='*', s = 100)\n",
    "    avg = pca.transform([(avg_endpoint - points_mean)/points_std])\n",
    "    ax.scatter(*avg.ravel()[3:], color='b', marker='P', s = 200, alpha=0.1)\n",
    "    avgl2 = pca.transform([(avg_endpoint_l2 - points_mean)/points_std])\n",
    "    ax.scatter(*avgl2.ravel()[3:], color='k', marker='p', s = 200, alpha=0.1)\n",
    "\n",
    "ax.set_xlabel('PC4')\n",
    "ax.set_ylabel('PC5')\n",
    "ax.set_zlabel('PC6')\n",
    "ax.view_init(elev=30, azim=45)\n",
    "\n",
    "\n",
    "\n",
    "\n",
    "\n",
    "fig.colorbar(sctr, ax=fig.get_axes(), shrink=0.6, pad = 0.15, ticks=np.arange(0, points_reduced_dim.shape[0]+1, (points_reduced_dim.shape[0] - points_reduced_dim.shape[0]%10)/10))"
   ]
  },
  {
   "cell_type": "code",
   "execution_count": null,
   "metadata": {},
   "outputs": [],
   "source": []
  }
 ],
 "metadata": {
  "kernelspec": {
   "display_name": "Python 3",
   "language": "python",
   "name": "python3"
  },
  "language_info": {
   "codemirror_mode": {
    "name": "ipython",
    "version": 3
   },
   "file_extension": ".py",
   "mimetype": "text/x-python",
   "name": "python",
   "nbconvert_exporter": "python",
   "pygments_lexer": "ipython3",
   "version": "3.7.5"
  }
 },
 "nbformat": 4,
 "nbformat_minor": 4
}
